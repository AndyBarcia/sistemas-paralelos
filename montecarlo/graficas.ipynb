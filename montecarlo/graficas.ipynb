{
 "cells": [
  {
   "cell_type": "code",
   "execution_count": 1,
   "id": "4761847f-14c8-4468-998d-41555e95fa39",
   "metadata": {},
   "outputs": [],
   "source": [
    "import random\n",
    "import math"
   ]
  },
  {
   "cell_type": "markdown",
   "id": "7f272557-bb0f-4c72-a510-17299d709f43",
   "metadata": {},
   "source": [
    "# Pruebas Montecarlo"
   ]
  },
  {
   "cell_type": "code",
   "execution_count": 2,
   "id": "a3a6aac0-1ffd-4ada-958d-eb3394098bc9",
   "metadata": {},
   "outputs": [],
   "source": [
    "def f(x):\n",
    "    return 1.0/math.sqrt(1-x*x)"
   ]
  },
  {
   "cell_type": "code",
   "execution_count": 3,
   "id": "444663d5-9bf4-4aa0-90e5-9225bfac7920",
   "metadata": {},
   "outputs": [],
   "source": [
    "iterations = 1000000\n",
    "total = 0.0\n",
    "for i in range(iterations):\n",
    "    x = random.random()\n",
    "    total += f(x) - 1.0\n",
    "total = total / iterations"
   ]
  },
  {
   "cell_type": "code",
   "execution_count": 4,
   "id": "189c7705-629e-486f-8b6f-056e2064cb40",
   "metadata": {},
   "outputs": [
    {
     "data": {
      "text/plain": [
       "3.1427151042375567"
      ]
     },
     "execution_count": 4,
     "metadata": {},
     "output_type": "execute_result"
    }
   ],
   "source": [
    "2.0 + total*2"
   ]
  },
  {
   "cell_type": "code",
   "execution_count": 5,
   "id": "742d31ed-f898-445f-a74d-1f5cfb58298d",
   "metadata": {},
   "outputs": [],
   "source": [
    "iterations = 1000000\n",
    "total = 0.0\n",
    "for i in range(iterations):\n",
    "    x = random.random()\n",
    "    total += f(x)\n",
    "total = total / iterations"
   ]
  },
  {
   "cell_type": "code",
   "execution_count": 6,
   "id": "baac6456-a723-484e-8263-4f54da793bf3",
   "metadata": {},
   "outputs": [
    {
     "data": {
      "text/plain": [
       "3.142572089377215"
      ]
     },
     "execution_count": 6,
     "metadata": {},
     "output_type": "execute_result"
    }
   ],
   "source": [
    "total*2"
   ]
  },
  {
   "cell_type": "markdown",
   "id": "8db748f2-7638-43da-b284-16004ca6985b",
   "metadata": {},
   "source": [
    "# Lectura de datos"
   ]
  },
  {
   "cell_type": "code",
   "execution_count": 7,
   "id": "aacaafe2-ee5f-409c-9538-960a4d047729",
   "metadata": {},
   "outputs": [],
   "source": [
    "import regex as re\n",
    "import pandas as pd\n",
    "import matplotlib.pyplot as plt"
   ]
  },
  {
   "cell_type": "code",
   "execution_count": 17,
   "id": "fbf4c49e-dad4-4bcf-8953-6b8e0a4fc7e6",
   "metadata": {},
   "outputs": [],
   "source": [
    "def cargar_fichero(fichero=\"resultados.out\"):\n",
    "    filas = []\n",
    "    with open(\"resultados.out\", \"r\") as f:\n",
    "        content = f.read()\n",
    "        content = re.split(r'Ejecutando con (\\d+) nodos y (\\d+) procesadores', content)[1:]\n",
    "        \n",
    "        print(content)\n",
    "        \n",
    "        for n_procesadores, resultados in [(content[i],content[i+1]) for i in range(0,len(content),2)]:        \n",
    "            pattern = r\"Global approx of PI with (\\d+) iterations:\\n\" \\\n",
    "              r\"\\s+-is (\\d+\\.\\d+)\\n\" \\\n",
    "              r\"\\s+-has an error [+-]?(\\d+\\.\\d+e[+-]?\\d+)\\n\" \\\n",
    "              r\"\\s+-took (\\d+\\.\\d+e[+-]?\\d+) seconds\\n\" \\\n",
    "              r\"\\s+-quality [+-]?(\\d+\\.\\d+e[+-]?\\d+)\"\n",
    "            matches = re.finditer(pattern, resultados)\n",
    "            match = next(matches)\n",
    "            iterations, pi_approx, error, time_taken, quality = match.groups()\n",
    "\n",
    "            filas.append({\n",
    "                \"procesadores\": n_procesadores,\n",
    "                \"iteraciones\": int(iterations),\n",
    "                \"pi_approx\": float(pi_approx),\n",
    "                \"error\": float(error),\n",
    "                \"tiempo\": float(time_taken),\n",
    "                \"calidad\": float(quality),\n",
    "            })\n",
    "    df = pd.DataFrame(filas)\n",
    "    del filas\n",
    "    \n",
    "    return df"
   ]
  },
  {
   "cell_type": "code",
   "execution_count": 18,
   "id": "f2f5d56f-5b64-4f11-a56f-071876c8e13b",
   "metadata": {},
   "outputs": [
    {
     "name": "stdout",
     "output_type": "stream",
     "text": [
      "[]\n"
     ]
    }
   ],
   "source": [
    "df = cargar_fichero(\"resultados.out\")"
   ]
  },
  {
   "cell_type": "code",
   "execution_count": 15,
   "id": "1ee71207-3e3f-454b-a276-af7b3383f205",
   "metadata": {},
   "outputs": [
    {
     "data": {
      "text/html": [
       "<div>\n",
       "<style scoped>\n",
       "    .dataframe tbody tr th:only-of-type {\n",
       "        vertical-align: middle;\n",
       "    }\n",
       "\n",
       "    .dataframe tbody tr th {\n",
       "        vertical-align: top;\n",
       "    }\n",
       "\n",
       "    .dataframe thead th {\n",
       "        text-align: right;\n",
       "    }\n",
       "</style>\n",
       "<table border=\"1\" class=\"dataframe\">\n",
       "  <thead>\n",
       "    <tr style=\"text-align: right;\">\n",
       "      <th></th>\n",
       "    </tr>\n",
       "  </thead>\n",
       "  <tbody>\n",
       "  </tbody>\n",
       "</table>\n",
       "</div>"
      ],
      "text/plain": [
       "Empty DataFrame\n",
       "Columns: []\n",
       "Index: []"
      ]
     },
     "execution_count": 15,
     "metadata": {},
     "output_type": "execute_result"
    }
   ],
   "source": [
    "df"
   ]
  },
  {
   "cell_type": "code",
   "execution_count": 10,
   "id": "de9364db-9faa-460d-97c8-29cf18592349",
   "metadata": {},
   "outputs": [
    {
     "ename": "KeyError",
     "evalue": "'procesadores'",
     "output_type": "error",
     "traceback": [
      "\u001b[0;31m---------------------------------------------------------------------------\u001b[0m",
      "\u001b[0;31mKeyError\u001b[0m                                  Traceback (most recent call last)",
      "File \u001b[0;32m~/.local/lib/python3.10/site-packages/pandas/core/indexes/base.py:3803\u001b[0m, in \u001b[0;36mIndex.get_loc\u001b[0;34m(self, key, method, tolerance)\u001b[0m\n\u001b[1;32m   3802\u001b[0m \u001b[38;5;28;01mtry\u001b[39;00m:\n\u001b[0;32m-> 3803\u001b[0m     \u001b[38;5;28;01mreturn\u001b[39;00m \u001b[38;5;28;43mself\u001b[39;49m\u001b[38;5;241;43m.\u001b[39;49m\u001b[43m_engine\u001b[49m\u001b[38;5;241;43m.\u001b[39;49m\u001b[43mget_loc\u001b[49m\u001b[43m(\u001b[49m\u001b[43mcasted_key\u001b[49m\u001b[43m)\u001b[49m\n\u001b[1;32m   3804\u001b[0m \u001b[38;5;28;01mexcept\u001b[39;00m \u001b[38;5;167;01mKeyError\u001b[39;00m \u001b[38;5;28;01mas\u001b[39;00m err:\n",
      "File \u001b[0;32m~/.local/lib/python3.10/site-packages/pandas/_libs/index.pyx:138\u001b[0m, in \u001b[0;36mpandas._libs.index.IndexEngine.get_loc\u001b[0;34m()\u001b[0m\n",
      "File \u001b[0;32m~/.local/lib/python3.10/site-packages/pandas/_libs/index.pyx:165\u001b[0m, in \u001b[0;36mpandas._libs.index.IndexEngine.get_loc\u001b[0;34m()\u001b[0m\n",
      "File \u001b[0;32mpandas/_libs/hashtable_class_helper.pxi:5745\u001b[0m, in \u001b[0;36mpandas._libs.hashtable.PyObjectHashTable.get_item\u001b[0;34m()\u001b[0m\n",
      "File \u001b[0;32mpandas/_libs/hashtable_class_helper.pxi:5753\u001b[0m, in \u001b[0;36mpandas._libs.hashtable.PyObjectHashTable.get_item\u001b[0;34m()\u001b[0m\n",
      "\u001b[0;31mKeyError\u001b[0m: 'procesadores'",
      "\nThe above exception was the direct cause of the following exception:\n",
      "\u001b[0;31mKeyError\u001b[0m                                  Traceback (most recent call last)",
      "Cell \u001b[0;32mIn [10], line 4\u001b[0m\n\u001b[1;32m      1\u001b[0m fig, (ax1, ax2, ax3) \u001b[38;5;241m=\u001b[39m plt\u001b[38;5;241m.\u001b[39msubplots(\u001b[38;5;241m3\u001b[39m, \u001b[38;5;241m1\u001b[39m, figsize\u001b[38;5;241m=\u001b[39m(\u001b[38;5;241m10\u001b[39m, \u001b[38;5;241m6\u001b[39m), sharex\u001b[38;5;241m=\u001b[39m\u001b[38;5;28;01mTrue\u001b[39;00m)\n\u001b[1;32m      3\u001b[0m \u001b[38;5;66;03m# Subgráfica 1: Tiempo tomado en función del número de procesadores\u001b[39;00m\n\u001b[0;32m----> 4\u001b[0m ax1\u001b[38;5;241m.\u001b[39mplot(\u001b[43mdf\u001b[49m\u001b[43m[\u001b[49m\u001b[38;5;124;43m'\u001b[39;49m\u001b[38;5;124;43mprocesadores\u001b[39;49m\u001b[38;5;124;43m'\u001b[39;49m\u001b[43m]\u001b[49m, df[\u001b[38;5;124m'\u001b[39m\u001b[38;5;124mtiempo\u001b[39m\u001b[38;5;124m'\u001b[39m], marker\u001b[38;5;241m=\u001b[39m\u001b[38;5;124m'\u001b[39m\u001b[38;5;124mo\u001b[39m\u001b[38;5;124m'\u001b[39m, linestyle\u001b[38;5;241m=\u001b[39m\u001b[38;5;124m'\u001b[39m\u001b[38;5;124m-\u001b[39m\u001b[38;5;124m'\u001b[39m)\n\u001b[1;32m      5\u001b[0m ax1\u001b[38;5;241m.\u001b[39mgrid()\n\u001b[1;32m      6\u001b[0m ax1\u001b[38;5;241m.\u001b[39mset_ylabel(\u001b[38;5;124m'\u001b[39m\u001b[38;5;124mTiempo (s)\u001b[39m\u001b[38;5;124m'\u001b[39m)\n",
      "File \u001b[0;32m~/.local/lib/python3.10/site-packages/pandas/core/frame.py:3804\u001b[0m, in \u001b[0;36mDataFrame.__getitem__\u001b[0;34m(self, key)\u001b[0m\n\u001b[1;32m   3802\u001b[0m \u001b[38;5;28;01mif\u001b[39;00m \u001b[38;5;28mself\u001b[39m\u001b[38;5;241m.\u001b[39mcolumns\u001b[38;5;241m.\u001b[39mnlevels \u001b[38;5;241m>\u001b[39m \u001b[38;5;241m1\u001b[39m:\n\u001b[1;32m   3803\u001b[0m     \u001b[38;5;28;01mreturn\u001b[39;00m \u001b[38;5;28mself\u001b[39m\u001b[38;5;241m.\u001b[39m_getitem_multilevel(key)\n\u001b[0;32m-> 3804\u001b[0m indexer \u001b[38;5;241m=\u001b[39m \u001b[38;5;28;43mself\u001b[39;49m\u001b[38;5;241;43m.\u001b[39;49m\u001b[43mcolumns\u001b[49m\u001b[38;5;241;43m.\u001b[39;49m\u001b[43mget_loc\u001b[49m\u001b[43m(\u001b[49m\u001b[43mkey\u001b[49m\u001b[43m)\u001b[49m\n\u001b[1;32m   3805\u001b[0m \u001b[38;5;28;01mif\u001b[39;00m is_integer(indexer):\n\u001b[1;32m   3806\u001b[0m     indexer \u001b[38;5;241m=\u001b[39m [indexer]\n",
      "File \u001b[0;32m~/.local/lib/python3.10/site-packages/pandas/core/indexes/base.py:3805\u001b[0m, in \u001b[0;36mIndex.get_loc\u001b[0;34m(self, key, method, tolerance)\u001b[0m\n\u001b[1;32m   3803\u001b[0m     \u001b[38;5;28;01mreturn\u001b[39;00m \u001b[38;5;28mself\u001b[39m\u001b[38;5;241m.\u001b[39m_engine\u001b[38;5;241m.\u001b[39mget_loc(casted_key)\n\u001b[1;32m   3804\u001b[0m \u001b[38;5;28;01mexcept\u001b[39;00m \u001b[38;5;167;01mKeyError\u001b[39;00m \u001b[38;5;28;01mas\u001b[39;00m err:\n\u001b[0;32m-> 3805\u001b[0m     \u001b[38;5;28;01mraise\u001b[39;00m \u001b[38;5;167;01mKeyError\u001b[39;00m(key) \u001b[38;5;28;01mfrom\u001b[39;00m \u001b[38;5;21;01merr\u001b[39;00m\n\u001b[1;32m   3806\u001b[0m \u001b[38;5;28;01mexcept\u001b[39;00m \u001b[38;5;167;01mTypeError\u001b[39;00m:\n\u001b[1;32m   3807\u001b[0m     \u001b[38;5;66;03m# If we have a listlike key, _check_indexing_error will raise\u001b[39;00m\n\u001b[1;32m   3808\u001b[0m     \u001b[38;5;66;03m#  InvalidIndexError. Otherwise we fall through and re-raise\u001b[39;00m\n\u001b[1;32m   3809\u001b[0m     \u001b[38;5;66;03m#  the TypeError.\u001b[39;00m\n\u001b[1;32m   3810\u001b[0m     \u001b[38;5;28mself\u001b[39m\u001b[38;5;241m.\u001b[39m_check_indexing_error(key)\n",
      "\u001b[0;31mKeyError\u001b[0m: 'procesadores'"
     ]
    },
    {
     "data": {
      "image/png": "[encoded data removed]",
      "text/plain": [
       "<Figure size 1000x600 with 3 Axes>"
      ]
     },
     "metadata": {},
     "output_type": "display_data"
    }
   ],
   "source": [
    "fig, (ax1, ax2, ax3) = plt.subplots(3, 1, figsize=(10, 6), sharex=True)\n",
    "\n",
    "# Subgráfica 1: Tiempo tomado en función del número de procesadores\n",
    "ax1.plot(df['procesadores'], df['tiempo'], marker='o', linestyle='-')\n",
    "ax1.grid()\n",
    "ax1.set_ylabel('Tiempo (s)')\n",
    "ax1.set_title('Tiempo y Calidad en función de Procesadores')\n",
    "\n",
    "# Subgráfica 2: Calidad en función del número de procesadores\n",
    "ax2.plot(df['procesadores'], df['calidad'], marker='o', linestyle='-')\n",
    "ax2.grid()\n",
    "ax2.set_ylabel('Calidad')\n",
    "\n",
    "# Subgráfica 3: Calidad en función del número de procesadores\n",
    "ax3.plot(df['procesadores'], df['error'], marker='o', linestyle='-')\n",
    "ax3.grid()\n",
    "ax3.set_xlabel('# Procesadores')\n",
    "ax3.set_ylabel('Error')\n",
    "\n",
    "# Ajusta el espacio entre las subgráficas para evitar superposiciones de etiquetas\n",
    "plt.tight_layout()\n",
    "plt.savefig('grafica.png', dpi=300)\n",
    "\n",
    "# Muestra el gráfico\n",
    "plt.show()"
   ]
  },
  {
   "cell_type": "code",
   "execution_count": null,
   "id": "ced3f113-aefa-4657-83f3-c81f184f583a",
   "metadata": {},
   "outputs": [],
   "source": []
  }
 ],
 "metadata": {
  "kernelspec": {
   "display_name": "Python 3 (ipykernel)",
   "language": "python",
   "name": "python3"
  },
  "language_info": {
   "codemirror_mode": {
    "name": "ipython",
    "version": 3
   },
   "file_extension": ".py",
   "mimetype": "text/x-python",
   "name": "python",
   "nbconvert_exporter": "python",
   "pygments_lexer": "ipython3",
   "version": "3.10.7"
  }
 },
 "nbformat": 4,
 "nbformat_minor": 5
}
